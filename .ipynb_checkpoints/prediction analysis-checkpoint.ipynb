{
 "cells": [
  {
   "cell_type": "code",
   "execution_count": 1,
   "metadata": {},
   "outputs": [],
   "source": [
    "import pandas as pd\n",
    "\n",
    "df = pd.read_csv('total_prediction.csv')"
   ]
  },
  {
   "cell_type": "code",
   "execution_count": 5,
   "metadata": {},
   "outputs": [
    {
     "data": {
      "text/html": [
       "<div>\n",
       "<style scoped>\n",
       "    .dataframe tbody tr th:only-of-type {\n",
       "        vertical-align: middle;\n",
       "    }\n",
       "\n",
       "    .dataframe tbody tr th {\n",
       "        vertical-align: top;\n",
       "    }\n",
       "\n",
       "    .dataframe thead th {\n",
       "        text-align: right;\n",
       "    }\n",
       "</style>\n",
       "<table border=\"1\" class=\"dataframe\">\n",
       "  <thead>\n",
       "    <tr style=\"text-align: right;\">\n",
       "      <th></th>\n",
       "      <th>behind diff</th>\n",
       "      <th>goal diff</th>\n",
       "      <th>total.diff</th>\n",
       "      <th>home team</th>\n",
       "      <th>away team</th>\n",
       "      <th>actual.result</th>\n",
       "      <th>prediction.correct</th>\n",
       "      <th>home.win.prob</th>\n",
       "      <th>draw prob</th>\n",
       "      <th>home loss prob</th>\n",
       "      <th>simulated sd ests</th>\n",
       "    </tr>\n",
       "  </thead>\n",
       "  <tbody>\n",
       "    <tr>\n",
       "      <th>0</th>\n",
       "      <td>3.2504</td>\n",
       "      <td>6.9724</td>\n",
       "      <td>45.0848</td>\n",
       "      <td>RI</td>\n",
       "      <td>CA</td>\n",
       "      <td>26</td>\n",
       "      <td>True</td>\n",
       "      <td>0.8896</td>\n",
       "      <td>0.0438</td>\n",
       "      <td>0.0666</td>\n",
       "      <td>67.33</td>\n",
       "    </tr>\n",
       "    <tr>\n",
       "      <th>1</th>\n",
       "      <td>1.9458</td>\n",
       "      <td>-1.6856</td>\n",
       "      <td>-8.1678</td>\n",
       "      <td>ES</td>\n",
       "      <td>AD</td>\n",
       "      <td>12</td>\n",
       "      <td>False</td>\n",
       "      <td>0.3492</td>\n",
       "      <td>0.0310</td>\n",
       "      <td>0.6198</td>\n",
       "      <td>45.20</td>\n",
       "    </tr>\n",
       "    <tr>\n",
       "      <th>2</th>\n",
       "      <td>10.4380</td>\n",
       "      <td>17.4520</td>\n",
       "      <td>115.1500</td>\n",
       "      <td>SK</td>\n",
       "      <td>BL</td>\n",
       "      <td>25</td>\n",
       "      <td>True</td>\n",
       "      <td>0.9602</td>\n",
       "      <td>0.0070</td>\n",
       "      <td>0.0328</td>\n",
       "      <td>164.44</td>\n",
       "    </tr>\n",
       "    <tr>\n",
       "      <th>3</th>\n",
       "      <td>3.3176</td>\n",
       "      <td>-3.1828</td>\n",
       "      <td>-15.7792</td>\n",
       "      <td>PA</td>\n",
       "      <td>FR</td>\n",
       "      <td>50</td>\n",
       "      <td>False</td>\n",
       "      <td>0.2962</td>\n",
       "      <td>0.0282</td>\n",
       "      <td>0.6756</td>\n",
       "      <td>45.90</td>\n",
       "    </tr>\n",
       "    <tr>\n",
       "      <th>4</th>\n",
       "      <td>5.7126</td>\n",
       "      <td>1.6704</td>\n",
       "      <td>15.7350</td>\n",
       "      <td>HW</td>\n",
       "      <td>CW</td>\n",
       "      <td>34</td>\n",
       "      <td>True</td>\n",
       "      <td>0.7364</td>\n",
       "      <td>0.0366</td>\n",
       "      <td>0.2270</td>\n",
       "      <td>33.53</td>\n",
       "    </tr>\n",
       "    <tr>\n",
       "      <th>...</th>\n",
       "      <td>...</td>\n",
       "      <td>...</td>\n",
       "      <td>...</td>\n",
       "      <td>...</td>\n",
       "      <td>...</td>\n",
       "      <td>...</td>\n",
       "      <td>...</td>\n",
       "      <td>...</td>\n",
       "      <td>...</td>\n",
       "      <td>...</td>\n",
       "      <td>...</td>\n",
       "    </tr>\n",
       "    <tr>\n",
       "      <th>175</th>\n",
       "      <td>-1.5034</td>\n",
       "      <td>12.0748</td>\n",
       "      <td>70.9454</td>\n",
       "      <td>GW</td>\n",
       "      <td>AD</td>\n",
       "      <td>14</td>\n",
       "      <td>True</td>\n",
       "      <td>0.9130</td>\n",
       "      <td>0.0124</td>\n",
       "      <td>0.0746</td>\n",
       "      <td>101.03</td>\n",
       "    </tr>\n",
       "    <tr>\n",
       "      <th>176</th>\n",
       "      <td>20.0078</td>\n",
       "      <td>33.7136</td>\n",
       "      <td>222.2894</td>\n",
       "      <td>PA</td>\n",
       "      <td>WC</td>\n",
       "      <td>-4</td>\n",
       "      <td>False</td>\n",
       "      <td>0.9910</td>\n",
       "      <td>0.0004</td>\n",
       "      <td>0.0086</td>\n",
       "      <td>225.84</td>\n",
       "    </tr>\n",
       "    <tr>\n",
       "      <th>177</th>\n",
       "      <td>-1.1348</td>\n",
       "      <td>0.3436</td>\n",
       "      <td>0.9268</td>\n",
       "      <td>GC</td>\n",
       "      <td>RI</td>\n",
       "      <td>-74</td>\n",
       "      <td>False</td>\n",
       "      <td>0.4568</td>\n",
       "      <td>0.0748</td>\n",
       "      <td>0.4684</td>\n",
       "      <td>20.46</td>\n",
       "    </tr>\n",
       "    <tr>\n",
       "      <th>178</th>\n",
       "      <td>0.3226</td>\n",
       "      <td>8.3928</td>\n",
       "      <td>50.6794</td>\n",
       "      <td>HW</td>\n",
       "      <td>GE</td>\n",
       "      <td>11</td>\n",
       "      <td>True</td>\n",
       "      <td>0.8142</td>\n",
       "      <td>0.0200</td>\n",
       "      <td>0.1658</td>\n",
       "      <td>88.21</td>\n",
       "    </tr>\n",
       "    <tr>\n",
       "      <th>179</th>\n",
       "      <td>3.6116</td>\n",
       "      <td>1.3148</td>\n",
       "      <td>11.5004</td>\n",
       "      <td>ES</td>\n",
       "      <td>SK</td>\n",
       "      <td>43</td>\n",
       "      <td>True</td>\n",
       "      <td>0.7164</td>\n",
       "      <td>0.0952</td>\n",
       "      <td>0.1884</td>\n",
       "      <td>26.71</td>\n",
       "    </tr>\n",
       "  </tbody>\n",
       "</table>\n",
       "<p>180 rows × 11 columns</p>\n",
       "</div>"
      ],
      "text/plain": [
       "     behind diff  goal diff  total.diff home team away team  actual.result  \\\n",
       "0         3.2504     6.9724     45.0848        RI        CA             26   \n",
       "1         1.9458    -1.6856     -8.1678        ES        AD             12   \n",
       "2        10.4380    17.4520    115.1500        SK        BL             25   \n",
       "3         3.3176    -3.1828    -15.7792        PA        FR             50   \n",
       "4         5.7126     1.6704     15.7350        HW        CW             34   \n",
       "..           ...        ...         ...       ...       ...            ...   \n",
       "175      -1.5034    12.0748     70.9454        GW        AD             14   \n",
       "176      20.0078    33.7136    222.2894        PA        WC             -4   \n",
       "177      -1.1348     0.3436      0.9268        GC        RI            -74   \n",
       "178       0.3226     8.3928     50.6794        HW        GE             11   \n",
       "179       3.6116     1.3148     11.5004        ES        SK             43   \n",
       "\n",
       "     prediction.correct  home.win.prob  draw prob  home loss prob  \\\n",
       "0                  True         0.8896     0.0438          0.0666   \n",
       "1                 False         0.3492     0.0310          0.6198   \n",
       "2                  True         0.9602     0.0070          0.0328   \n",
       "3                 False         0.2962     0.0282          0.6756   \n",
       "4                  True         0.7364     0.0366          0.2270   \n",
       "..                  ...            ...        ...             ...   \n",
       "175                True         0.9130     0.0124          0.0746   \n",
       "176               False         0.9910     0.0004          0.0086   \n",
       "177               False         0.4568     0.0748          0.4684   \n",
       "178                True         0.8142     0.0200          0.1658   \n",
       "179                True         0.7164     0.0952          0.1884   \n",
       "\n",
       "     simulated sd ests  \n",
       "0                67.33  \n",
       "1                45.20  \n",
       "2               164.44  \n",
       "3                45.90  \n",
       "4                33.53  \n",
       "..                 ...  \n",
       "175             101.03  \n",
       "176             225.84  \n",
       "177              20.46  \n",
       "178              88.21  \n",
       "179              26.71  \n",
       "\n",
       "[180 rows x 11 columns]"
      ]
     },
     "execution_count": 5,
     "metadata": {},
     "output_type": "execute_result"
    }
   ],
   "source": [
    "df"
   ]
  },
  {
   "cell_type": "code",
   "execution_count": 6,
   "metadata": {},
   "outputs": [],
   "source": [
    "act_result = [1 if i > 0 else 0 for i in df['actual.result']]"
   ]
  },
  {
   "cell_type": "markdown",
   "metadata": {},
   "source": [
    "## Accuracy"
   ]
  },
  {
   "cell_type": "code",
   "execution_count": 4,
   "metadata": {},
   "outputs": [
    {
     "data": {
      "text/plain": [
       "0.5611111111111111"
      ]
     },
     "execution_count": 4,
     "metadata": {},
     "output_type": "execute_result"
    }
   ],
   "source": [
    "sum(df['prediction.correct'])/ len(df)"
   ]
  },
  {
   "cell_type": "markdown",
   "metadata": {},
   "source": [
    "## Log loss\n"
   ]
  },
  {
   "cell_type": "code",
   "execution_count": 7,
   "metadata": {},
   "outputs": [
    {
     "data": {
      "text/plain": [
       "0.9923983379598016"
      ]
     },
     "execution_count": 7,
     "metadata": {},
     "output_type": "execute_result"
    }
   ],
   "source": [
    "from sklearn.metrics import log_loss\n",
    "\n",
    "log_loss(act_result, df['home.win.prob'].tolist())"
   ]
  },
  {
   "cell_type": "markdown",
   "metadata": {},
   "source": [
    "## MAD"
   ]
  },
  {
   "cell_type": "code",
   "execution_count": 8,
   "metadata": {},
   "outputs": [
    {
     "data": {
      "text/plain": [
       "55.93575888888889"
      ]
     },
     "execution_count": 8,
     "metadata": {},
     "output_type": "execute_result"
    }
   ],
   "source": [
    "from sklearn.metrics import mean_absolute_error\n",
    "\n",
    "mean_absolute_error(df['actual.result'], df['total.diff'])"
   ]
  }
 ],
 "metadata": {
  "kernelspec": {
   "display_name": "Python 3",
   "language": "python",
   "name": "python3"
  },
  "language_info": {
   "codemirror_mode": {
    "name": "ipython",
    "version": 3
   },
   "file_extension": ".py",
   "mimetype": "text/x-python",
   "name": "python",
   "nbconvert_exporter": "python",
   "pygments_lexer": "ipython3",
   "version": "3.7.5"
  }
 },
 "nbformat": 4,
 "nbformat_minor": 2
}
