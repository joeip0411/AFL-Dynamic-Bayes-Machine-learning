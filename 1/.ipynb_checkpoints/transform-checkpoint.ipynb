{
 "cells": [
  {
   "cell_type": "code",
   "execution_count": 42,
   "metadata": {},
   "outputs": [],
   "source": [
    "df <- read.csv('internal predictions.csv')"
   ]
  },
  {
   "cell_type": "code",
   "execution_count": 43,
   "metadata": {},
   "outputs": [
    {
     "data": {
      "text/html": [
       "<table>\n",
       "<thead><tr><th scope=col>V1</th><th scope=col>V2</th><th scope=col>V3</th><th scope=col>V4</th><th scope=col>V5</th><th scope=col>V6</th><th scope=col>V7</th><th scope=col>V8</th><th scope=col>V9</th><th scope=col>V10</th></tr></thead>\n",
       "<tbody>\n",
       "\t<tr><td>behind diff        </td><td>0.8854             </td><td>1.291              </td><td>6.6862             </td><td>0.8992             </td><td>5.9624             </td><td>-6.2128            </td><td>3.7048             </td><td>1.2922             </td><td>-2.5332            </td></tr>\n",
       "\t<tr><td>goal diff          </td><td>-4.2976            </td><td>-1.482             </td><td>12.1344            </td><td>7.038              </td><td>1.3618             </td><td>-2.3034            </td><td>0.8428             </td><td>-1.575             </td><td>-2.2134            </td></tr>\n",
       "\t<tr><td>total diff         </td><td>-24.9002           </td><td>-7.601             </td><td>79.4926            </td><td>43.1272            </td><td>14.1332            </td><td>-20.0332           </td><td>8.7616             </td><td>-8.1578            </td><td>-15.8136           </td></tr>\n",
       "\t<tr><td>home team          </td><td>CA                 </td><td>CW                 </td><td>ME                 </td><td>AD                 </td><td>WB                 </td><td>BL                 </td><td>SK                 </td><td>GW                 </td><td>FR                 </td></tr>\n",
       "\t<tr><td>away team          </td><td>RI                 </td><td>GE                 </td><td>PA                 </td><td>HW                 </td><td>SY                 </td><td>WC                 </td><td>GC                 </td><td>ES                 </td><td>NM                 </td></tr>\n",
       "\t<tr><td>actual result      </td><td>-33                </td><td>-7                 </td><td>-26                </td><td>-32                </td><td>17                 </td><td>44                 </td><td>1                  </td><td>72                 </td><td>82                 </td></tr>\n",
       "\t<tr><td>prediction correct?</td><td>TRUE               </td><td>TRUE               </td><td>FALSE              </td><td>FALSE              </td><td>TRUE               </td><td>FALSE              </td><td>TRUE               </td><td>FALSE              </td><td>FALSE              </td></tr>\n",
       "\t<tr><td>home win prob      </td><td>0.1796             </td><td>0.3688             </td><td>0.9832             </td><td>0.8326             </td><td>0.7496             </td><td>0.07               </td><td>0.6514             </td><td>0.321              </td><td>0.2256             </td></tr>\n",
       "\t<tr><td>draw prob          </td><td>0.0228             </td><td>0.053              </td><td>0.004              </td><td>0.0212             </td><td>0.0392             </td><td>0.0086             </td><td>0.043              </td><td>0.0528             </td><td>0.0276             </td></tr>\n",
       "\t<tr><td>home loss prob     </td><td>0.7976             </td><td>0.5782             </td><td>0.0128             </td><td>0.1462             </td><td>0.2112             </td><td>0.9214             </td><td>0.3056             </td><td>0.6262             </td><td>0.7468             </td></tr>\n",
       "\t<tr><td>simulated sd ests  </td><td>39.37              </td><td>33.21              </td><td>85.12              </td><td>61.02              </td><td>24.67              </td><td>16.62              </td><td>29.41              </td><td>31.25              </td><td>27.8               </td></tr>\n",
       "</tbody>\n",
       "</table>\n"
      ],
      "text/latex": [
       "\\begin{tabular}{r|llllllllll}\n",
       " V1 & V2 & V3 & V4 & V5 & V6 & V7 & V8 & V9 & V10\\\\\n",
       "\\hline\n",
       "\t behind diff         & 0.8854              & 1.291               & 6.6862              & 0.8992              & 5.9624              & -6.2128             & 3.7048              & 1.2922              & -2.5332            \\\\\n",
       "\t goal diff           & -4.2976             & -1.482              & 12.1344             & 7.038               & 1.3618              & -2.3034             & 0.8428              & -1.575              & -2.2134            \\\\\n",
       "\t total diff          & -24.9002            & -7.601              & 79.4926             & 43.1272             & 14.1332             & -20.0332            & 8.7616              & -8.1578             & -15.8136           \\\\\n",
       "\t home team           & CA                  & CW                  & ME                  & AD                  & WB                  & BL                  & SK                  & GW                  & FR                 \\\\\n",
       "\t away team           & RI                  & GE                  & PA                  & HW                  & SY                  & WC                  & GC                  & ES                  & NM                 \\\\\n",
       "\t actual result       & -33                 & -7                  & -26                 & -32                 & 17                  & 44                  & 1                   & 72                  & 82                 \\\\\n",
       "\t prediction correct? & TRUE                & TRUE                & FALSE               & FALSE               & TRUE                & FALSE               & TRUE                & FALSE               & FALSE              \\\\\n",
       "\t home win prob       & 0.1796              & 0.3688              & 0.9832              & 0.8326              & 0.7496              & 0.07                & 0.6514              & 0.321               & 0.2256             \\\\\n",
       "\t draw prob           & 0.0228              & 0.053               & 0.004               & 0.0212              & 0.0392              & 0.0086              & 0.043               & 0.0528              & 0.0276             \\\\\n",
       "\t home loss prob      & 0.7976              & 0.5782              & 0.0128              & 0.1462              & 0.2112              & 0.9214              & 0.3056              & 0.6262              & 0.7468             \\\\\n",
       "\t simulated sd ests   & 39.37               & 33.21               & 85.12               & 61.02               & 24.67               & 16.62               & 29.41               & 31.25               & 27.8               \\\\\n",
       "\\end{tabular}\n"
      ],
      "text/markdown": [
       "\n",
       "| V1 | V2 | V3 | V4 | V5 | V6 | V7 | V8 | V9 | V10 |\n",
       "|---|---|---|---|---|---|---|---|---|---|\n",
       "| behind diff         | 0.8854              | 1.291               | 6.6862              | 0.8992              | 5.9624              | -6.2128             | 3.7048              | 1.2922              | -2.5332             |\n",
       "| goal diff           | -4.2976             | -1.482              | 12.1344             | 7.038               | 1.3618              | -2.3034             | 0.8428              | -1.575              | -2.2134             |\n",
       "| total diff          | -24.9002            | -7.601              | 79.4926             | 43.1272             | 14.1332             | -20.0332            | 8.7616              | -8.1578             | -15.8136            |\n",
       "| home team           | CA                  | CW                  | ME                  | AD                  | WB                  | BL                  | SK                  | GW                  | FR                  |\n",
       "| away team           | RI                  | GE                  | PA                  | HW                  | SY                  | WC                  | GC                  | ES                  | NM                  |\n",
       "| actual result       | -33                 | -7                  | -26                 | -32                 | 17                  | 44                  | 1                   | 72                  | 82                  |\n",
       "| prediction correct? | TRUE                | TRUE                | FALSE               | FALSE               | TRUE                | FALSE               | TRUE                | FALSE               | FALSE               |\n",
       "| home win prob       | 0.1796              | 0.3688              | 0.9832              | 0.8326              | 0.7496              | 0.07                | 0.6514              | 0.321               | 0.2256              |\n",
       "| draw prob           | 0.0228              | 0.053               | 0.004               | 0.0212              | 0.0392              | 0.0086              | 0.043               | 0.0528              | 0.0276              |\n",
       "| home loss prob      | 0.7976              | 0.5782              | 0.0128              | 0.1462              | 0.2112              | 0.9214              | 0.3056              | 0.6262              | 0.7468              |\n",
       "| simulated sd ests   | 39.37               | 33.21               | 85.12               | 61.02               | 24.67               | 16.62               | 29.41               | 31.25               | 27.8                |\n",
       "\n"
      ],
      "text/plain": [
       "   V1                  V2       V3     V4      V5      V6      V7       V8    \n",
       "1  behind diff         0.8854   1.291  6.6862  0.8992  5.9624  -6.2128  3.7048\n",
       "2  goal diff           -4.2976  -1.482 12.1344 7.038   1.3618  -2.3034  0.8428\n",
       "3  total diff          -24.9002 -7.601 79.4926 43.1272 14.1332 -20.0332 8.7616\n",
       "4  home team           CA       CW     ME      AD      WB      BL       SK    \n",
       "5  away team           RI       GE     PA      HW      SY      WC       GC    \n",
       "6  actual result       -33      -7     -26     -32     17      44       1     \n",
       "7  prediction correct? TRUE     TRUE   FALSE   FALSE   TRUE    FALSE    TRUE  \n",
       "8  home win prob       0.1796   0.3688 0.9832  0.8326  0.7496  0.07     0.6514\n",
       "9  draw prob           0.0228   0.053  0.004   0.0212  0.0392  0.0086   0.043 \n",
       "10 home loss prob      0.7976   0.5782 0.0128  0.1462  0.2112  0.9214   0.3056\n",
       "11 simulated sd ests   39.37    33.21  85.12   61.02   24.67   16.62    29.41 \n",
       "   V9      V10     \n",
       "1  1.2922  -2.5332 \n",
       "2  -1.575  -2.2134 \n",
       "3  -8.1578 -15.8136\n",
       "4  GW      FR      \n",
       "5  ES      NM      \n",
       "6  72      82      \n",
       "7  FALSE   FALSE   \n",
       "8  0.321   0.2256  \n",
       "9  0.0528  0.0276  \n",
       "10 0.6262  0.7468  \n",
       "11 31.25   27.8    "
      ]
     },
     "metadata": {},
     "output_type": "display_data"
    }
   ],
   "source": [
    "df <- df[-1]\n",
    "df"
   ]
  },
  {
   "cell_type": "code",
   "execution_count": 46,
   "metadata": {},
   "outputs": [],
   "source": [
    "df1 <- t(as.matrix(df))\n",
    "colnames(df1) <- NULL\n",
    "rownames(df1) <- NULL\n",
    "colnames(df1) <- df1[1,]\n",
    "df1 <- df1[-1,]\n",
    "df1 <- data.frame(df1)\n",
    "df1$round <-1"
   ]
  },
  {
   "cell_type": "code",
   "execution_count": 47,
   "metadata": {},
   "outputs": [
    {
     "data": {
      "text/html": [
       "<table>\n",
       "<thead><tr><th scope=col>behind.diff</th><th scope=col>goal.diff</th><th scope=col>total.diff</th><th scope=col>home.team</th><th scope=col>away.team</th><th scope=col>actual.result</th><th scope=col>prediction.correct.</th><th scope=col>home.win.prob</th><th scope=col>draw.prob</th><th scope=col>home.loss.prob</th><th scope=col>simulated.sd.ests</th><th scope=col>round</th></tr></thead>\n",
       "<tbody>\n",
       "\t<tr><td>0.8854  </td><td>-4.2976 </td><td>-24.9002</td><td>CA      </td><td>RI      </td><td>-33     </td><td>TRUE    </td><td>0.1796  </td><td>0.0228  </td><td>0.7976  </td><td>39.37   </td><td>1       </td></tr>\n",
       "\t<tr><td>1.291   </td><td>-1.482  </td><td>-7.601  </td><td>CW      </td><td>GE      </td><td>-7      </td><td>TRUE    </td><td>0.3688  </td><td>0.053   </td><td>0.5782  </td><td>33.21   </td><td>1       </td></tr>\n",
       "\t<tr><td>6.6862  </td><td>12.1344 </td><td>79.4926 </td><td>ME      </td><td>PA      </td><td>-26     </td><td>FALSE   </td><td>0.9832  </td><td>0.004   </td><td>0.0128  </td><td>85.12   </td><td>1       </td></tr>\n",
       "\t<tr><td>0.8992  </td><td>7.038   </td><td>43.1272 </td><td>AD      </td><td>HW      </td><td>-32     </td><td>FALSE   </td><td>0.8326  </td><td>0.0212  </td><td>0.1462  </td><td>61.02   </td><td>1       </td></tr>\n",
       "\t<tr><td>5.9624  </td><td>1.3618  </td><td>14.1332 </td><td>WB      </td><td>SY      </td><td>17      </td><td>TRUE    </td><td>0.7496  </td><td>0.0392  </td><td>0.2112  </td><td>24.67   </td><td>1       </td></tr>\n",
       "\t<tr><td>-6.2128 </td><td>-2.3034 </td><td>-20.0332</td><td>BL      </td><td>WC      </td><td>44      </td><td>FALSE   </td><td>0.07    </td><td>0.0086  </td><td>0.9214  </td><td>16.62   </td><td>1       </td></tr>\n",
       "\t<tr><td>3.7048  </td><td>0.8428  </td><td>8.7616  </td><td>SK      </td><td>GC      </td><td>1       </td><td>TRUE    </td><td>0.6514  </td><td>0.043   </td><td>0.3056  </td><td>29.41   </td><td>1       </td></tr>\n",
       "\t<tr><td>1.2922  </td><td>-1.575  </td><td>-8.1578 </td><td>GW      </td><td>ES      </td><td>72      </td><td>FALSE   </td><td>0.321   </td><td>0.0528  </td><td>0.6262  </td><td>31.25   </td><td>1       </td></tr>\n",
       "\t<tr><td>-2.5332 </td><td>-2.2134 </td><td>-15.8136</td><td>FR      </td><td>NM      </td><td>82      </td><td>FALSE   </td><td>0.2256  </td><td>0.0276  </td><td>0.7468  </td><td>27.8    </td><td>1       </td></tr>\n",
       "</tbody>\n",
       "</table>\n"
      ],
      "text/latex": [
       "\\begin{tabular}{r|llllllllllll}\n",
       " behind.diff & goal.diff & total.diff & home.team & away.team & actual.result & prediction.correct. & home.win.prob & draw.prob & home.loss.prob & simulated.sd.ests & round\\\\\n",
       "\\hline\n",
       "\t 0.8854   & -4.2976  & -24.9002 & CA       & RI       & -33      & TRUE     & 0.1796   & 0.0228   & 0.7976   & 39.37    & 1       \\\\\n",
       "\t 1.291    & -1.482   & -7.601   & CW       & GE       & -7       & TRUE     & 0.3688   & 0.053    & 0.5782   & 33.21    & 1       \\\\\n",
       "\t 6.6862   & 12.1344  & 79.4926  & ME       & PA       & -26      & FALSE    & 0.9832   & 0.004    & 0.0128   & 85.12    & 1       \\\\\n",
       "\t 0.8992   & 7.038    & 43.1272  & AD       & HW       & -32      & FALSE    & 0.8326   & 0.0212   & 0.1462   & 61.02    & 1       \\\\\n",
       "\t 5.9624   & 1.3618   & 14.1332  & WB       & SY       & 17       & TRUE     & 0.7496   & 0.0392   & 0.2112   & 24.67    & 1       \\\\\n",
       "\t -6.2128  & -2.3034  & -20.0332 & BL       & WC       & 44       & FALSE    & 0.07     & 0.0086   & 0.9214   & 16.62    & 1       \\\\\n",
       "\t 3.7048   & 0.8428   & 8.7616   & SK       & GC       & 1        & TRUE     & 0.6514   & 0.043    & 0.3056   & 29.41    & 1       \\\\\n",
       "\t 1.2922   & -1.575   & -8.1578  & GW       & ES       & 72       & FALSE    & 0.321    & 0.0528   & 0.6262   & 31.25    & 1       \\\\\n",
       "\t -2.5332  & -2.2134  & -15.8136 & FR       & NM       & 82       & FALSE    & 0.2256   & 0.0276   & 0.7468   & 27.8     & 1       \\\\\n",
       "\\end{tabular}\n"
      ],
      "text/markdown": [
       "\n",
       "| behind.diff | goal.diff | total.diff | home.team | away.team | actual.result | prediction.correct. | home.win.prob | draw.prob | home.loss.prob | simulated.sd.ests | round |\n",
       "|---|---|---|---|---|---|---|---|---|---|---|---|\n",
       "| 0.8854   | -4.2976  | -24.9002 | CA       | RI       | -33      | TRUE     | 0.1796   | 0.0228   | 0.7976   | 39.37    | 1        |\n",
       "| 1.291    | -1.482   | -7.601   | CW       | GE       | -7       | TRUE     | 0.3688   | 0.053    | 0.5782   | 33.21    | 1        |\n",
       "| 6.6862   | 12.1344  | 79.4926  | ME       | PA       | -26      | FALSE    | 0.9832   | 0.004    | 0.0128   | 85.12    | 1        |\n",
       "| 0.8992   | 7.038    | 43.1272  | AD       | HW       | -32      | FALSE    | 0.8326   | 0.0212   | 0.1462   | 61.02    | 1        |\n",
       "| 5.9624   | 1.3618   | 14.1332  | WB       | SY       | 17       | TRUE     | 0.7496   | 0.0392   | 0.2112   | 24.67    | 1        |\n",
       "| -6.2128  | -2.3034  | -20.0332 | BL       | WC       | 44       | FALSE    | 0.07     | 0.0086   | 0.9214   | 16.62    | 1        |\n",
       "| 3.7048   | 0.8428   | 8.7616   | SK       | GC       | 1        | TRUE     | 0.6514   | 0.043    | 0.3056   | 29.41    | 1        |\n",
       "| 1.2922   | -1.575   | -8.1578  | GW       | ES       | 72       | FALSE    | 0.321    | 0.0528   | 0.6262   | 31.25    | 1        |\n",
       "| -2.5332  | -2.2134  | -15.8136 | FR       | NM       | 82       | FALSE    | 0.2256   | 0.0276   | 0.7468   | 27.8     | 1        |\n",
       "\n"
      ],
      "text/plain": [
       "  behind.diff goal.diff total.diff home.team away.team actual.result\n",
       "1 0.8854      -4.2976   -24.9002   CA        RI        -33          \n",
       "2 1.291       -1.482    -7.601     CW        GE        -7           \n",
       "3 6.6862      12.1344   79.4926    ME        PA        -26          \n",
       "4 0.8992      7.038     43.1272    AD        HW        -32          \n",
       "5 5.9624      1.3618    14.1332    WB        SY        17           \n",
       "6 -6.2128     -2.3034   -20.0332   BL        WC        44           \n",
       "7 3.7048      0.8428    8.7616     SK        GC        1            \n",
       "8 1.2922      -1.575    -8.1578    GW        ES        72           \n",
       "9 -2.5332     -2.2134   -15.8136   FR        NM        82           \n",
       "  prediction.correct. home.win.prob draw.prob home.loss.prob simulated.sd.ests\n",
       "1 TRUE                0.1796        0.0228    0.7976         39.37            \n",
       "2 TRUE                0.3688        0.053     0.5782         33.21            \n",
       "3 FALSE               0.9832        0.004     0.0128         85.12            \n",
       "4 FALSE               0.8326        0.0212    0.1462         61.02            \n",
       "5 TRUE                0.7496        0.0392    0.2112         24.67            \n",
       "6 FALSE               0.07          0.0086    0.9214         16.62            \n",
       "7 TRUE                0.6514        0.043     0.3056         29.41            \n",
       "8 FALSE               0.321         0.0528    0.6262         31.25            \n",
       "9 FALSE               0.2256        0.0276    0.7468         27.8             \n",
       "  round\n",
       "1 1    \n",
       "2 1    \n",
       "3 1    \n",
       "4 1    \n",
       "5 1    \n",
       "6 1    \n",
       "7 1    \n",
       "8 1    \n",
       "9 1    "
      ]
     },
     "metadata": {},
     "output_type": "display_data"
    }
   ],
   "source": [
    "df1"
   ]
  }
 ],
 "metadata": {
  "kernelspec": {
   "display_name": "R",
   "language": "R",
   "name": "ir"
  },
  "language_info": {
   "codemirror_mode": "r",
   "file_extension": ".r",
   "mimetype": "text/x-r-source",
   "name": "R",
   "pygments_lexer": "r",
   "version": "3.6.1"
  }
 },
 "nbformat": 4,
 "nbformat_minor": 2
}
