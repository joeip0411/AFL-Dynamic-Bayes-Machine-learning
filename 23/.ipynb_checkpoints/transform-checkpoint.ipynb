{
 "cells": [
  {
   "cell_type": "code",
   "execution_count": 1,
   "metadata": {},
   "outputs": [],
   "source": [
    "df <- read.csv('internal predictions.csv')"
   ]
  },
  {
   "cell_type": "code",
   "execution_count": 2,
   "metadata": {},
   "outputs": [
    {
     "data": {
      "text/html": [
       "<table>\n",
       "<thead><tr><th scope=col>V1</th><th scope=col>V2</th><th scope=col>V3</th><th scope=col>V4</th><th scope=col>V5</th><th scope=col>V6</th><th scope=col>V7</th><th scope=col>V8</th><th scope=col>V9</th><th scope=col>V10</th></tr></thead>\n",
       "<tbody>\n",
       "\t<tr><td>behind diff        </td><td>0.8816             </td><td>4.2274             </td><td>4.2814             </td><td>2.4076             </td><td>-0.5428            </td><td>1.7516             </td><td>1.1134             </td><td>-0.3532            </td><td>2.6424             </td></tr>\n",
       "\t<tr><td>goal diff          </td><td>6.59               </td><td>0.626              </td><td>23.8282            </td><td>0.3116             </td><td>-0.7972            </td><td>3.7824             </td><td>25.7328            </td><td>9.521              </td><td>23.7314            </td></tr>\n",
       "\t<tr><td>total diff         </td><td>40.4216            </td><td>7.9834             </td><td>147.2506           </td><td>4.2772             </td><td>-5.326             </td><td>24.446             </td><td>155.5102           </td><td>56.7728            </td><td>145.0308           </td></tr>\n",
       "\t<tr><td>home team          </td><td>PA                 </td><td>RI                 </td><td>WB                 </td><td>WC                 </td><td>GC                 </td><td>GE                 </td><td>NM                 </td><td>SY                 </td><td>CW                 </td></tr>\n",
       "\t<tr><td>away team          </td><td>FR                 </td><td>BL                 </td><td>AD                 </td><td>HW                 </td><td>GW                 </td><td>CA                 </td><td>ME                 </td><td>SK                 </td><td>ES                 </td></tr>\n",
       "\t<tr><td>actual result      </td><td>43                 </td><td>27                 </td><td>34                 </td><td>-38                </td><td>-72                </td><td>68                 </td><td>5                  </td><td>45                 </td><td>11                 </td></tr>\n",
       "\t<tr><td>prediction correct?</td><td>TRUE               </td><td>TRUE               </td><td>TRUE               </td><td>FALSE              </td><td>TRUE               </td><td>TRUE               </td><td>TRUE               </td><td>TRUE               </td><td>TRUE               </td></tr>\n",
       "\t<tr><td>home win prob      </td><td>0.8462             </td><td>0.744              </td><td>0.9934             </td><td>0.5198             </td><td>0.3716             </td><td>0.834              </td><td>0.9908             </td><td>0.9512             </td><td>0.9738             </td></tr>\n",
       "\t<tr><td>draw prob          </td><td>0.0248             </td><td>0.0676             </td><td>0.0012             </td><td>0.0594             </td><td>0.056              </td><td>0.0328             </td><td>0.001              </td><td>0.0118             </td><td>0.004              </td></tr>\n",
       "\t<tr><td>home loss prob     </td><td>0.129              </td><td>0.1884             </td><td>0.0054             </td><td>0.4208             </td><td>0.5724             </td><td>0.1332             </td><td>0.0082             </td><td>0.037              </td><td>0.0222             </td></tr>\n",
       "\t<tr><td>simulated sd ests  </td><td>81.71              </td><td>14.45              </td><td>142.75             </td><td>25.91              </td><td>27.64              </td><td>35.65              </td><td>152.13             </td><td>58.61              </td><td>158.84             </td></tr>\n",
       "</tbody>\n",
       "</table>\n"
      ],
      "text/latex": [
       "\\begin{tabular}{r|llllllllll}\n",
       " V1 & V2 & V3 & V4 & V5 & V6 & V7 & V8 & V9 & V10\\\\\n",
       "\\hline\n",
       "\t behind diff         & 0.8816              & 4.2274              & 4.2814              & 2.4076              & -0.5428             & 1.7516              & 1.1134              & -0.3532             & 2.6424             \\\\\n",
       "\t goal diff           & 6.59                & 0.626               & 23.8282             & 0.3116              & -0.7972             & 3.7824              & 25.7328             & 9.521               & 23.7314            \\\\\n",
       "\t total diff          & 40.4216             & 7.9834              & 147.2506            & 4.2772              & -5.326              & 24.446              & 155.5102            & 56.7728             & 145.0308           \\\\\n",
       "\t home team           & PA                  & RI                  & WB                  & WC                  & GC                  & GE                  & NM                  & SY                  & CW                 \\\\\n",
       "\t away team           & FR                  & BL                  & AD                  & HW                  & GW                  & CA                  & ME                  & SK                  & ES                 \\\\\n",
       "\t actual result       & 43                  & 27                  & 34                  & -38                 & -72                 & 68                  & 5                   & 45                  & 11                 \\\\\n",
       "\t prediction correct? & TRUE                & TRUE                & TRUE                & FALSE               & TRUE                & TRUE                & TRUE                & TRUE                & TRUE               \\\\\n",
       "\t home win prob       & 0.8462              & 0.744               & 0.9934              & 0.5198              & 0.3716              & 0.834               & 0.9908              & 0.9512              & 0.9738             \\\\\n",
       "\t draw prob           & 0.0248              & 0.0676              & 0.0012              & 0.0594              & 0.056               & 0.0328              & 0.001               & 0.0118              & 0.004              \\\\\n",
       "\t home loss prob      & 0.129               & 0.1884              & 0.0054              & 0.4208              & 0.5724              & 0.1332              & 0.0082              & 0.037               & 0.0222             \\\\\n",
       "\t simulated sd ests   & 81.71               & 14.45               & 142.75              & 25.91               & 27.64               & 35.65               & 152.13              & 58.61               & 158.84             \\\\\n",
       "\\end{tabular}\n"
      ],
      "text/markdown": [
       "\n",
       "| V1 | V2 | V3 | V4 | V5 | V6 | V7 | V8 | V9 | V10 |\n",
       "|---|---|---|---|---|---|---|---|---|---|\n",
       "| behind diff         | 0.8816              | 4.2274              | 4.2814              | 2.4076              | -0.5428             | 1.7516              | 1.1134              | -0.3532             | 2.6424              |\n",
       "| goal diff           | 6.59                | 0.626               | 23.8282             | 0.3116              | -0.7972             | 3.7824              | 25.7328             | 9.521               | 23.7314             |\n",
       "| total diff          | 40.4216             | 7.9834              | 147.2506            | 4.2772              | -5.326              | 24.446              | 155.5102            | 56.7728             | 145.0308            |\n",
       "| home team           | PA                  | RI                  | WB                  | WC                  | GC                  | GE                  | NM                  | SY                  | CW                  |\n",
       "| away team           | FR                  | BL                  | AD                  | HW                  | GW                  | CA                  | ME                  | SK                  | ES                  |\n",
       "| actual result       | 43                  | 27                  | 34                  | -38                 | -72                 | 68                  | 5                   | 45                  | 11                  |\n",
       "| prediction correct? | TRUE                | TRUE                | TRUE                | FALSE               | TRUE                | TRUE                | TRUE                | TRUE                | TRUE                |\n",
       "| home win prob       | 0.8462              | 0.744               | 0.9934              | 0.5198              | 0.3716              | 0.834               | 0.9908              | 0.9512              | 0.9738              |\n",
       "| draw prob           | 0.0248              | 0.0676              | 0.0012              | 0.0594              | 0.056               | 0.0328              | 0.001               | 0.0118              | 0.004               |\n",
       "| home loss prob      | 0.129               | 0.1884              | 0.0054              | 0.4208              | 0.5724              | 0.1332              | 0.0082              | 0.037               | 0.0222              |\n",
       "| simulated sd ests   | 81.71               | 14.45               | 142.75              | 25.91               | 27.64               | 35.65               | 152.13              | 58.61               | 158.84              |\n",
       "\n"
      ],
      "text/plain": [
       "   V1                  V2      V3     V4       V5     V6      V7     V8      \n",
       "1  behind diff         0.8816  4.2274 4.2814   2.4076 -0.5428 1.7516 1.1134  \n",
       "2  goal diff           6.59    0.626  23.8282  0.3116 -0.7972 3.7824 25.7328 \n",
       "3  total diff          40.4216 7.9834 147.2506 4.2772 -5.326  24.446 155.5102\n",
       "4  home team           PA      RI     WB       WC     GC      GE     NM      \n",
       "5  away team           FR      BL     AD       HW     GW      CA     ME      \n",
       "6  actual result       43      27     34       -38    -72     68     5       \n",
       "7  prediction correct? TRUE    TRUE   TRUE     FALSE  TRUE    TRUE   TRUE    \n",
       "8  home win prob       0.8462  0.744  0.9934   0.5198 0.3716  0.834  0.9908  \n",
       "9  draw prob           0.0248  0.0676 0.0012   0.0594 0.056   0.0328 0.001   \n",
       "10 home loss prob      0.129   0.1884 0.0054   0.4208 0.5724  0.1332 0.0082  \n",
       "11 simulated sd ests   81.71   14.45  142.75   25.91  27.64   35.65  152.13  \n",
       "   V9      V10     \n",
       "1  -0.3532 2.6424  \n",
       "2  9.521   23.7314 \n",
       "3  56.7728 145.0308\n",
       "4  SY      CW      \n",
       "5  SK      ES      \n",
       "6  45      11      \n",
       "7  TRUE    TRUE    \n",
       "8  0.9512  0.9738  \n",
       "9  0.0118  0.004   \n",
       "10 0.037   0.0222  \n",
       "11 58.61   158.84  "
      ]
     },
     "metadata": {},
     "output_type": "display_data"
    }
   ],
   "source": [
    "df <- df[-1]\n",
    "df"
   ]
  },
  {
   "cell_type": "code",
   "execution_count": 3,
   "metadata": {},
   "outputs": [],
   "source": [
    "df1 <- t(as.matrix(df))\n",
    "colnames(df1) <- NULL\n",
    "rownames(df1) <- NULL\n",
    "colnames(df1) <- df1[1,]\n",
    "df1 <- df1[-1,]\n",
    "df1 <- data.frame(df1)\n",
    "df1$round <-23\n"
   ]
  },
  {
   "cell_type": "code",
   "execution_count": 4,
   "metadata": {},
   "outputs": [
    {
     "data": {
      "text/html": [
       "<table>\n",
       "<thead><tr><th scope=col>behind.diff</th><th scope=col>goal.diff</th><th scope=col>total.diff</th><th scope=col>home.team</th><th scope=col>away.team</th><th scope=col>actual.result</th><th scope=col>prediction.correct.</th><th scope=col>home.win.prob</th><th scope=col>draw.prob</th><th scope=col>home.loss.prob</th><th scope=col>simulated.sd.ests</th><th scope=col>round</th></tr></thead>\n",
       "<tbody>\n",
       "\t<tr><td>0.8816  </td><td>6.59    </td><td>40.4216 </td><td>PA      </td><td>FR      </td><td>43      </td><td>TRUE    </td><td>0.8462  </td><td>0.0248  </td><td>0.129   </td><td>81.71   </td><td>23      </td></tr>\n",
       "\t<tr><td>4.2274  </td><td>0.626   </td><td>7.9834  </td><td>RI      </td><td>BL      </td><td>27      </td><td>TRUE    </td><td>0.744   </td><td>0.0676  </td><td>0.1884  </td><td>14.45   </td><td>23      </td></tr>\n",
       "\t<tr><td>4.2814  </td><td>23.8282 </td><td>147.2506</td><td>WB      </td><td>AD      </td><td>34      </td><td>TRUE    </td><td>0.9934  </td><td>0.0012  </td><td>0.0054  </td><td>142.75  </td><td>23      </td></tr>\n",
       "\t<tr><td>2.4076  </td><td>0.3116  </td><td>4.2772  </td><td>WC      </td><td>HW      </td><td>-38     </td><td>FALSE   </td><td>0.5198  </td><td>0.0594  </td><td>0.4208  </td><td>25.91   </td><td>23      </td></tr>\n",
       "\t<tr><td>-0.5428 </td><td>-0.7972 </td><td>-5.326  </td><td>GC      </td><td>GW      </td><td>-72     </td><td>TRUE    </td><td>0.3716  </td><td>0.056   </td><td>0.5724  </td><td>27.64   </td><td>23      </td></tr>\n",
       "\t<tr><td>1.7516  </td><td>3.7824  </td><td>24.446  </td><td>GE      </td><td>CA      </td><td>68      </td><td>TRUE    </td><td>0.834   </td><td>0.0328  </td><td>0.1332  </td><td>35.65   </td><td>23      </td></tr>\n",
       "\t<tr><td>1.1134  </td><td>25.7328 </td><td>155.5102</td><td>NM      </td><td>ME      </td><td>5       </td><td>TRUE    </td><td>0.9908  </td><td>0.001   </td><td>0.0082  </td><td>152.13  </td><td>23      </td></tr>\n",
       "\t<tr><td>-0.3532 </td><td>9.521   </td><td>56.7728 </td><td>SY      </td><td>SK      </td><td>45      </td><td>TRUE    </td><td>0.9512  </td><td>0.0118  </td><td>0.037   </td><td>58.61   </td><td>23      </td></tr>\n",
       "\t<tr><td>2.6424  </td><td>23.7314 </td><td>145.0308</td><td>CW      </td><td>ES      </td><td>11      </td><td>TRUE    </td><td>0.9738  </td><td>0.004   </td><td>0.0222  </td><td>158.84  </td><td>23      </td></tr>\n",
       "</tbody>\n",
       "</table>\n"
      ],
      "text/latex": [
       "\\begin{tabular}{r|llllllllllll}\n",
       " behind.diff & goal.diff & total.diff & home.team & away.team & actual.result & prediction.correct. & home.win.prob & draw.prob & home.loss.prob & simulated.sd.ests & round\\\\\n",
       "\\hline\n",
       "\t 0.8816   & 6.59     & 40.4216  & PA       & FR       & 43       & TRUE     & 0.8462   & 0.0248   & 0.129    & 81.71    & 23      \\\\\n",
       "\t 4.2274   & 0.626    & 7.9834   & RI       & BL       & 27       & TRUE     & 0.744    & 0.0676   & 0.1884   & 14.45    & 23      \\\\\n",
       "\t 4.2814   & 23.8282  & 147.2506 & WB       & AD       & 34       & TRUE     & 0.9934   & 0.0012   & 0.0054   & 142.75   & 23      \\\\\n",
       "\t 2.4076   & 0.3116   & 4.2772   & WC       & HW       & -38      & FALSE    & 0.5198   & 0.0594   & 0.4208   & 25.91    & 23      \\\\\n",
       "\t -0.5428  & -0.7972  & -5.326   & GC       & GW       & -72      & TRUE     & 0.3716   & 0.056    & 0.5724   & 27.64    & 23      \\\\\n",
       "\t 1.7516   & 3.7824   & 24.446   & GE       & CA       & 68       & TRUE     & 0.834    & 0.0328   & 0.1332   & 35.65    & 23      \\\\\n",
       "\t 1.1134   & 25.7328  & 155.5102 & NM       & ME       & 5        & TRUE     & 0.9908   & 0.001    & 0.0082   & 152.13   & 23      \\\\\n",
       "\t -0.3532  & 9.521    & 56.7728  & SY       & SK       & 45       & TRUE     & 0.9512   & 0.0118   & 0.037    & 58.61    & 23      \\\\\n",
       "\t 2.6424   & 23.7314  & 145.0308 & CW       & ES       & 11       & TRUE     & 0.9738   & 0.004    & 0.0222   & 158.84   & 23      \\\\\n",
       "\\end{tabular}\n"
      ],
      "text/markdown": [
       "\n",
       "| behind.diff | goal.diff | total.diff | home.team | away.team | actual.result | prediction.correct. | home.win.prob | draw.prob | home.loss.prob | simulated.sd.ests | round |\n",
       "|---|---|---|---|---|---|---|---|---|---|---|---|\n",
       "| 0.8816   | 6.59     | 40.4216  | PA       | FR       | 43       | TRUE     | 0.8462   | 0.0248   | 0.129    | 81.71    | 23       |\n",
       "| 4.2274   | 0.626    | 7.9834   | RI       | BL       | 27       | TRUE     | 0.744    | 0.0676   | 0.1884   | 14.45    | 23       |\n",
       "| 4.2814   | 23.8282  | 147.2506 | WB       | AD       | 34       | TRUE     | 0.9934   | 0.0012   | 0.0054   | 142.75   | 23       |\n",
       "| 2.4076   | 0.3116   | 4.2772   | WC       | HW       | -38      | FALSE    | 0.5198   | 0.0594   | 0.4208   | 25.91    | 23       |\n",
       "| -0.5428  | -0.7972  | -5.326   | GC       | GW       | -72      | TRUE     | 0.3716   | 0.056    | 0.5724   | 27.64    | 23       |\n",
       "| 1.7516   | 3.7824   | 24.446   | GE       | CA       | 68       | TRUE     | 0.834    | 0.0328   | 0.1332   | 35.65    | 23       |\n",
       "| 1.1134   | 25.7328  | 155.5102 | NM       | ME       | 5        | TRUE     | 0.9908   | 0.001    | 0.0082   | 152.13   | 23       |\n",
       "| -0.3532  | 9.521    | 56.7728  | SY       | SK       | 45       | TRUE     | 0.9512   | 0.0118   | 0.037    | 58.61    | 23       |\n",
       "| 2.6424   | 23.7314  | 145.0308 | CW       | ES       | 11       | TRUE     | 0.9738   | 0.004    | 0.0222   | 158.84   | 23       |\n",
       "\n"
      ],
      "text/plain": [
       "  behind.diff goal.diff total.diff home.team away.team actual.result\n",
       "1 0.8816      6.59      40.4216    PA        FR        43           \n",
       "2 4.2274      0.626     7.9834     RI        BL        27           \n",
       "3 4.2814      23.8282   147.2506   WB        AD        34           \n",
       "4 2.4076      0.3116    4.2772     WC        HW        -38          \n",
       "5 -0.5428     -0.7972   -5.326     GC        GW        -72          \n",
       "6 1.7516      3.7824    24.446     GE        CA        68           \n",
       "7 1.1134      25.7328   155.5102   NM        ME        5            \n",
       "8 -0.3532     9.521     56.7728    SY        SK        45           \n",
       "9 2.6424      23.7314   145.0308   CW        ES        11           \n",
       "  prediction.correct. home.win.prob draw.prob home.loss.prob simulated.sd.ests\n",
       "1 TRUE                0.8462        0.0248    0.129          81.71            \n",
       "2 TRUE                0.744         0.0676    0.1884         14.45            \n",
       "3 TRUE                0.9934        0.0012    0.0054         142.75           \n",
       "4 FALSE               0.5198        0.0594    0.4208         25.91            \n",
       "5 TRUE                0.3716        0.056     0.5724         27.64            \n",
       "6 TRUE                0.834         0.0328    0.1332         35.65            \n",
       "7 TRUE                0.9908        0.001     0.0082         152.13           \n",
       "8 TRUE                0.9512        0.0118    0.037          58.61            \n",
       "9 TRUE                0.9738        0.004     0.0222         158.84           \n",
       "  round\n",
       "1 23   \n",
       "2 23   \n",
       "3 23   \n",
       "4 23   \n",
       "5 23   \n",
       "6 23   \n",
       "7 23   \n",
       "8 23   \n",
       "9 23   "
      ]
     },
     "metadata": {},
     "output_type": "display_data"
    }
   ],
   "source": [
    "df1"
   ]
  },
  {
   "cell_type": "code",
   "execution_count": 5,
   "metadata": {},
   "outputs": [],
   "source": [
    "write.csv(df1, 'round23_prediction.csv')"
   ]
  }
 ],
 "metadata": {
  "kernelspec": {
   "display_name": "R",
   "language": "R",
   "name": "ir"
  },
  "language_info": {
   "codemirror_mode": "r",
   "file_extension": ".r",
   "mimetype": "text/x-r-source",
   "name": "R",
   "pygments_lexer": "r",
   "version": "3.6.1"
  }
 },
 "nbformat": 4,
 "nbformat_minor": 2
}
